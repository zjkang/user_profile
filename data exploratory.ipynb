{
 "cells": [
  {
   "cell_type": "code",
   "execution_count": 1,
   "metadata": {},
   "outputs": [],
   "source": [
    "#Import necessary libraries\n",
    "import numpy as np\n",
    "import pandas as pd\n",
    "import matplotlib.pyplot as plt\n",
    "%matplotlib inline\n",
    "from os import path\n",
    "import jieba"
   ]
  },
  {
   "cell_type": "code",
   "execution_count": null,
   "metadata": {},
   "outputs": [],
   "source": [
    "!head -2 ./data/train.csv"
   ]
  },
  {
   "cell_type": "code",
   "execution_count": null,
   "metadata": {},
   "outputs": [],
   "source": [
    "# in_f = open('./data/train.csv')\n",
    "# count = 0\n",
    "# while True: \n",
    "#     count += 1\n",
    "#     # Get next line from file \n",
    "#     line = in_f.readline() \n",
    "#     # if line is empty \n",
    "#     # end of file is reached \n",
    "#     if not line or count > 1: \n",
    "#         break\n",
    "#     print(f\"Line{count}: {line.strip()}\")\n",
    "# in_f.close()"
   ]
  },
  {
   "cell_type": "code",
   "execution_count": 2,
   "metadata": {},
   "outputs": [
    {
     "data": {
      "text/html": [
       "<div>\n",
       "<style scoped>\n",
       "    .dataframe tbody tr th:only-of-type {\n",
       "        vertical-align: middle;\n",
       "    }\n",
       "\n",
       "    .dataframe tbody tr th {\n",
       "        vertical-align: top;\n",
       "    }\n",
       "\n",
       "    .dataframe thead th {\n",
       "        text-align: right;\n",
       "    }\n",
       "</style>\n",
       "<table border=\"1\" class=\"dataframe\">\n",
       "  <thead>\n",
       "    <tr style=\"text-align: right;\">\n",
       "      <th></th>\n",
       "      <th>ID</th>\n",
       "      <th>Age</th>\n",
       "      <th>Gender</th>\n",
       "      <th>Education</th>\n",
       "      <th>Query_list</th>\n",
       "    </tr>\n",
       "  </thead>\n",
       "  <tbody>\n",
       "    <tr>\n",
       "      <th>0</th>\n",
       "      <td>22DD920316420BE2DF8D6EE651BA174B</td>\n",
       "      <td>1</td>\n",
       "      <td>1</td>\n",
       "      <td>4</td>\n",
       "      <td>柔和双沟\\t女生\\t中财网首页 财经\\thttp://pan.baidu.com/s/1pl...</td>\n",
       "    </tr>\n",
       "    <tr>\n",
       "      <th>1</th>\n",
       "      <td>43CC3AF5A8D6430A3B572337A889AFE4</td>\n",
       "      <td>2</td>\n",
       "      <td>1</td>\n",
       "      <td>3</td>\n",
       "      <td>广州厨宝烤箱\\t世情薄,人情恶,雨送黄昏花易落,晓风干,泪痕\\t厦门酒店用品批发市场\\t我只...</td>\n",
       "    </tr>\n",
       "  </tbody>\n",
       "</table>\n",
       "</div>"
      ],
      "text/plain": [
       "                                 ID  Age  Gender  Education  \\\n",
       "0  22DD920316420BE2DF8D6EE651BA174B    1       1          4   \n",
       "1  43CC3AF5A8D6430A3B572337A889AFE4    2       1          3   \n",
       "\n",
       "                                          Query_list  \n",
       "0  柔和双沟\\t女生\\t中财网首页 财经\\thttp://pan.baidu.com/s/1pl...  \n",
       "1  广州厨宝烤箱\\t世情薄,人情恶,雨送黄昏花易落,晓风干,泪痕\\t厦门酒店用品批发市场\\t我只...  "
      ]
     },
     "execution_count": 2,
     "metadata": {},
     "output_type": "execute_result"
    }
   ],
   "source": [
    "# read in train/test data\n",
    "header_list = ['ID', 'Age', 'Gender', 'Education', 'Query_list']\n",
    "nrows = None\n",
    "df_train_data = pd.read_csv('data/train.csv', sep='###__###', engine='python', header=None, names=header_list, nrows=nrows)\n",
    "df_train_data.head(2)"
   ]
  },
  {
   "cell_type": "code",
   "execution_count": 3,
   "metadata": {},
   "outputs": [
    {
     "name": "stdout",
     "output_type": "stream",
     "text": [
      "柔和双沟\t女生\t中财网首页 财经\thttp://pan.baidu.com/s/1plpjtn9\t周公解梦大全查询2345\t曹云金再讽郭德纲\t总裁大人行行好\t中财网第一财经传媒\t教师节全文\t男子砸毁15墓碑\t黄岩岛最新填海图\t引起的疲\t缘来未迟落跑甜心不好惹\t梁朝伟与替身同框\t笑傲江湖电视剧任贤齐\t小起名字女孩名字\t海运行李到堪培拉\t确定\t诱爱99天 司少的天价宝贝\t什么是遥控魔棒\t徽信表情动态搞笑图片\t教师节征文100字\t安微联通网上营业厅\t甜宠百分百:校草的萌萌未婚妻\t豪门重生之暖爱成婚\tnikehypershift和kd5哪个好看\t韭菜炒鸡蛋\t陈赫玩王者荣耀\t虎牙楚河\t三国演义小说txt下载\t威县欧派\t炒馍花怎么做好吃\t黄岩岛最新消息2016年\t中秋节诗句大全祝福\t教师节征文\t菜谱\t柔和双沟卖的怎么样\t七位数开奖结果\t以色列停车场坍塌\t天龙家庭农场\t7.22什么星座\t新旧约圣经和合本下载\t4π\twifi万能钥匙\t威灵仙图片\t临泉长官天龙家庭农场\t早安总统大人\t百合\t莲藕的做法\t花街\t无锡\t蚬壳胃散怎么吃\t触手忆寒\t中秋节的诗句\t孟州电信 电子发票\t鸡丝汤的做法\t我等你\t临泉长官镇桥口李小刚农场\t朋仇\t全民k歌\t炸葱花\t蒜苔炒肉\t冰川的图片\tkd5\t…\t若风\t好奇纸尿裤\t清蒸鱼\t189.8是谁的平方\t重庆餐馆发生爆炸\t捡手机被失主抢劫\thttps://yunpan.cn/ocsqfgtfya2ewj\t炒馍花的家常做法\t三国演义小说百度云\t总裁掠爱小舅别太坏\t:https://yunpan.cn/cmh8tmeyraiww\t周公解梦\t查坦克冰川\t凉拌藕片的做法\t投票\t鸡丝炒什么好吃\t被时光掩埋的秘密小说下载\t中国电信电子发票\t张续豪\t关于月亮的诗句\t用酵母蒸馒头的方法\t赵丽颖碧瑶坐\t触手兵长\t图集 下载腾讯新闻,看街头混战武警\t厦门航空\t蚬壳胃散\t炒茄子做法\t身份类别怎么填\t最好的我们里面的方特在哪里\t牢里面的生活是怎样的\t强迫症有哪些表现\t白袍法师暖暖图片\t朋仇广场舞\t小宇热游\t蒸馒头的方法\t狡滑的意思\t黄石大冶东岳派出所服务电话\t三国演义小说下载txt\thttp://zxjhjc9088.1688.com\t松柏道馆\t10.1高速免费几天\t三国演义小说txt\t柔和双沟业务待遇\t酵母蒸馒头的方法\t初中家教一对一辅导\t口子窖\t中秋节祝福诗句\t侠岚\t文王国窖42度价格表1001文王国窖42度价格表\t批注是什么意思\t殿下专属小丫头\t无锡爆炸\t炸茄子做法\thttp://pan.baidu.com/s/1cor7gy\t大件行李邮寄\t烟火陈翔\t没想到,真没想到作文\t安徽滁州石坝镇\t虎牙小宇\t驾校培训跑长途\t骨质性关节炎\t左膝盖内侧疼是怎么回事\t虎皮尖椒的做法大全\t陈翔的女朋友吻照\tq我的世界、5\t23.04的平方根\t神将世界表情包\t寻找成龙\t柔和双沟卖的\t三国演义txt百度云\t一般现在时\t澳洲邮寄行李费用\t触手若月\t1991年11月26日是什么星座\t校草成长记\t暮光女向女友求婚\t钢弩的价格图片\t乐乐课堂\t宠妻成瘾老婆你要乖\t魔手tv\t梅河口到济南的火车票\t临泉长官镇\t君子兰\t南洋十大邪术电影\t肚\t炸油条的做法和配方\t根号6等于多少\t笑笑昨日帝王骗\t吃惊的什么填词语\t50字教师节征文\t朝阳区黑庄户邮编\t千百鲁\t1991年农历11月26日是什么星座\t圣经和合本免费下载\t水煮花生米的做法\thttp://pan.baidu.com/s/1jhbv9pg\t十字弓\t徽信表情含义\t天才小熊猫微博长图\t宠冠六宫:帝王的娇蛮皇妃\t去广告软件 安卓版\t萌妻娇俏帝少我嘴挑\t总裁霸爱小小新娘要逃婚\t花生怎么煮好吃\t中国证券网\t柔和双沟销售\t中秋节的诗句图片\t男子怪病喝洗洁精\t4π等于多少\t服装批发5元\t怀孕33周肚子隐隐作痛怎么回事\t百度云\t酱炒蒜苔的家常做法\t水煮花生米\t天才小熊猫作品\t袁姗姗\t临泉长官镇桥口\t呼作白玉盘的上一句\t微信表情包搞笑图片\t滴滴快车司机端\t教师节手抄报简单好看\t大冶公安局 派出所\t柔和双沟业务待遇怎么样\t为什么哺乳期不会有月经\t临泉长官水上乐园\t忐忑不安的意思\t临泉长官李小刚家庭农场\t电信电子发票怎么报销\t岳不群\t:http://pan.baidu.com/s/1plefcb5\t临泉长官镇桥口李天龙农场\t凉拌水煮花生米的做法\t威灵仙的功效与作用\thttp://pan.baidu.com/s/1o7hnpmy\t鸽子汤的做法\t战神伪高冷 天降医妃拐回家\t白颠疯初期症状\t天才小熊猫\t首席萌妻咬一口\t弩弓枪商城\t三国演义小说\t临泉长官镇桥口植物养殖基地\t邮储银行手机银行客户端下载\t煮花米怎么做好吃\t英语在线翻译\t糖醋鲤鱼\tｗｗｗ．２０１６ｙｇ．ｃｏｍ\t搞笑微信表情图片带字\t新婚甜似火:鲜妻,二胎生一对\t三国演义\t关于教师节的手抄报\thttp://m37189.mustfollow.vx.mvote.net/wx\t文王国窖42度价格表\t鱼汤的做法\thttp://www.cswanda.com/weixin/game1/2016\t临泉长官镇桥口私人农场\t临泉长官镇桥口镇杨营\t临泉长官李天龙家庭农场\t李子树根部有脓包怎么回事\t单手高速转牌\t医学院在什么路上\t徽信早上好动态表情\t宝宝小名大全2016洋气\t寂寞男女聊天记录截图\thttps://yunpan.cn/oc6nhvmrg5j2ur\t神将世界\t美丽的秋天作文300字\thttp://pan.baidu.com/s/1nu9uizn\t钢弩\t冰川世纪电影\t全文\t触手蓝烟\t鱼的做法\t金罐加多宝20罐\t澳洲托运行李规定\t15346171303@189.cn\t炒蒜苔的家常做法\t被时光掩埋的秘密\t根号13.6等于几\t方特东方神画\t粉红花朵图片\tqq号申请\t千亿盛宠 大叔吻慢点\thttp://linjiada1989.1688.com\t东方财富网首页\thttp://pan.baidu.com/s/1hraemhe\t动力煤价格\t手机遥控魔棒\tjzg\thttp://pan.baidu.com/s/1o8cxpmm\t行李托运到澳洲\t蚬壳胃散副作用\t红烧鲤鱼\t触手tv\t中国财经信息网中财网\t立方根800\t美食菜谱\t笑傲江湖电视剧\t柔和双沟怎么样\t笑傲江湖\t花的品种名字及图片\t滴滴司机端\t奇怪君\t鸡蛋灌饼\t天龙农家乐园\t吉拉拉歌词\t陈翔的女朋友\t牢解场的生活\t微微一笑很倾城\t豪门少奶奶谢少的心尖宠妻\n",
      "5\n",
      "Number of training data: 100000\n"
     ]
    }
   ],
   "source": [
    "print(df_train_data.iloc[0]['Query_list'])\n",
    "print(len(df_train_data.columns))\n",
    "print(f'Number of training data: {len(df_train_data)}')"
   ]
  },
  {
   "cell_type": "code",
   "execution_count": 4,
   "metadata": {},
   "outputs": [],
   "source": [
    "stopwords=pd.read_csv(\"./external/stopwords.txt\",index_col=False,quoting=3,sep=\"\\t\",names=['stopword'], encoding='utf-8')\n",
    "stopwords=stopwords['stopword'].values"
   ]
  },
  {
   "cell_type": "code",
   "execution_count": 5,
   "metadata": {},
   "outputs": [],
   "source": [
    "import re\n",
    "unused_tokens = [\"http\\S+\", \"\\@\\w+\", \"\\#\\w+\", \"www\\S+\"]\n",
    "\n",
    "# remove noise\n",
    "# invalid data\n",
    "# - web link, e.g., http://pan.baidu.com/s/1plpjtn9\n",
    "# - number sequence, e.g.,6933005900560\n",
    "def remove_unused_text(document):\n",
    "    noise_pattern = re.compile(\"|\".join(unused_tokens))\n",
    "    clean_text = re.sub(noise_pattern, \"\", document)\n",
    "    return clean_text.strip()\n",
    "\n",
    "\n",
    "def preprocess_text(age, gender, edu, document):\n",
    "    document = remove_unused_text(document)\n",
    "    processed_text = []\n",
    "    sentences = document.split('\\t')\n",
    "#     print(document)\n",
    "    for sen in sentences:\n",
    "        try:\n",
    "            segs=jieba.lcut(sen)\n",
    "            segs = list(filter(lambda x:len(x)>1, segs)) #没有解析出来的新闻过滤掉\n",
    "            segs = list(filter(lambda x:x not in stopwords, segs)) #把停用词过滤掉\n",
    "#             print(segs)\n",
    "            processed_text.extend(segs)\n",
    "        except Exception as e:\n",
    "            print(f'Exception happened due to {e}, as sentence={sen}')\n",
    "            continue\n",
    "    return \" \".join(processed_text)\n",
    "        \n",
    "\n",
    "def remove_noise(df):\n",
    "    new_queries = []\n",
    "    for index, row in df.iterrows():\n",
    "        age, gender, edu, query_list = row['Age'], row['Gender'], row['Education'], row['Query_list']\n",
    "        new_query = preprocess_text(age, gender, edu, query_list)\n",
    "        new_queries.append(new_query)\n",
    "        if (index+1) % 2000 == 0:\n",
    "            print(f'processed {index+1} rows, {(index+1)/len(df)} of data...')\n",
    "    return new_queries"
   ]
  },
  {
   "cell_type": "code",
   "execution_count": 6,
   "metadata": {},
   "outputs": [
    {
     "name": "stderr",
     "output_type": "stream",
     "text": [
      "Building prefix dict from the default dictionary ...\n",
      "Loading model from cache /var/folders/xn/j6h54rp17jncvq0ddzxntg240000gn/T/jieba.cache\n",
      "Loading model cost 0.675 seconds.\n",
      "Prefix dict has been built successfully.\n"
     ]
    },
    {
     "name": "stdout",
     "output_type": "stream",
     "text": [
      "processed 2000 rows, 0.02 of data...\n",
      "processed 4000 rows, 0.04 of data...\n",
      "processed 6000 rows, 0.06 of data...\n",
      "processed 8000 rows, 0.08 of data...\n",
      "processed 10000 rows, 0.1 of data...\n",
      "processed 12000 rows, 0.12 of data...\n",
      "processed 14000 rows, 0.14 of data...\n",
      "processed 16000 rows, 0.16 of data...\n",
      "processed 18000 rows, 0.18 of data...\n",
      "processed 20000 rows, 0.2 of data...\n",
      "processed 22000 rows, 0.22 of data...\n",
      "processed 24000 rows, 0.24 of data...\n",
      "processed 26000 rows, 0.26 of data...\n",
      "processed 28000 rows, 0.28 of data...\n",
      "processed 30000 rows, 0.3 of data...\n",
      "processed 32000 rows, 0.32 of data...\n",
      "processed 34000 rows, 0.34 of data...\n",
      "processed 36000 rows, 0.36 of data...\n",
      "processed 38000 rows, 0.38 of data...\n",
      "processed 40000 rows, 0.4 of data...\n",
      "processed 42000 rows, 0.42 of data...\n",
      "processed 44000 rows, 0.44 of data...\n",
      "processed 46000 rows, 0.46 of data...\n",
      "processed 48000 rows, 0.48 of data...\n",
      "processed 50000 rows, 0.5 of data...\n",
      "processed 52000 rows, 0.52 of data...\n",
      "processed 54000 rows, 0.54 of data...\n",
      "processed 56000 rows, 0.56 of data...\n",
      "processed 58000 rows, 0.58 of data...\n",
      "processed 60000 rows, 0.6 of data...\n",
      "processed 62000 rows, 0.62 of data...\n",
      "processed 64000 rows, 0.64 of data...\n",
      "processed 66000 rows, 0.66 of data...\n",
      "processed 68000 rows, 0.68 of data...\n",
      "processed 70000 rows, 0.7 of data...\n",
      "processed 72000 rows, 0.72 of data...\n",
      "processed 74000 rows, 0.74 of data...\n",
      "processed 76000 rows, 0.76 of data...\n",
      "processed 78000 rows, 0.78 of data...\n",
      "processed 80000 rows, 0.8 of data...\n",
      "processed 82000 rows, 0.82 of data...\n",
      "processed 84000 rows, 0.84 of data...\n",
      "processed 86000 rows, 0.86 of data...\n",
      "processed 88000 rows, 0.88 of data...\n",
      "processed 90000 rows, 0.9 of data...\n",
      "processed 92000 rows, 0.92 of data...\n",
      "processed 94000 rows, 0.94 of data...\n",
      "processed 96000 rows, 0.96 of data...\n",
      "processed 98000 rows, 0.98 of data...\n",
      "processed 100000 rows, 1.0 of data...\n",
      "100000\n",
      "柔和 双沟 女生 中财网 首页 财经 周公 解梦 大全 查询 2345 曹云金 再讽 郭德纲 总裁 大人 行行好 中财网 第一 财经 传媒 教师节 全文 砸毁 墓碑 黄岩岛 最新 海图 缘来 迟落 甜心 不好惹 梁朝伟 替身 同框 笑傲江湖 电视剧 任贤齐 小起 名字 女孩 名字 海运 行李 堪培拉 诱爱 司少 天价 宝贝 遥控 魔棒 徽信 表情 动态 搞笑 图片 教师节 征文 安微 联通 网上 营业厅 甜宠 百分百 校草 萌萌 未婚妻 豪门 重生 之暖爱 成婚 nikehypershift kd5 好看 韭菜 炒鸡蛋 陈赫 王者 荣耀 虎牙 楚河 三国演义 小说 txt 下载 威县 欧派 好吃 黄岩岛 最新消息 中秋节 诗句 大全 祝福 教师节 征文 菜谱 柔和 双沟 七位数 开奖 以色列 停车场 坍塌 天龙 家庭 农场 7.22 星座 新旧 圣经 合本 下载 wifi 万能钥匙 威灵仙 图片 临泉 长官 天龙 家庭 农场 早安 总统 大人 百合 莲藕 做法 花街 无锡 蚬壳 胃散 触手 忆寒 中秋节 诗句 孟州 电信 电子 发票 鸡丝 做法 临泉 长官 镇桥口 李小刚 农场 朋仇 全民 葱花 蒜苔 炒肉 冰川 图片 kd5 若风 好奇 纸尿裤 清蒸鱼 189.8 平方 重庆 餐馆 发生爆炸 手机 失主 抢劫 家常 做法 三国演义 小说 百度 总裁 掠爱 小舅 太坏 周公 解梦 坦克 冰川 凉拌 藕片 做法 投票 鸡丝 好吃 时光 掩埋 秘密 小说 下载 中国电信 电子 发票 张续 月亮 诗句 酵母 馒头 方法 赵丽颖 碧瑶 触手 兵长 图集 下载 腾讯 新闻 街头 混战 武警 厦门航空 蚬壳 胃散 茄子 做法 身份 类别 方特 生活 强迫症 表现 白袍 法师 图片 朋仇 广场 小宇 热游 馒头 方法 狡滑 黄石 大冶 东岳 派出所 服务 电话 三国演义 小说 下载 txt 松柏 道馆 10.1 高速 免费 几天 三国演义 小说 txt 柔和 双沟 业务 待遇 酵母 馒头 方法 初中 家教 一对一 辅导 口子 中秋节 祝福 诗句 侠岚 王国 价格表 1001 王国 价格表 批注 殿下 专属 小丫头 无锡 爆炸 茄子 做法 大件 行李 邮寄 烟火 陈翔 没想到 真没想到 作文 安徽 滁州 石坝 虎牙 小宇 驾校 培训 长途 骨质 关节炎 膝盖 内侧 怎么回事 虎皮 尖椒 做法 大全 陈翔 女朋友 吻照 世界 23.04 平方根 神将 世界 表情 寻找 成龙 柔和 双沟 三国演义 txt 百度 澳洲 邮寄 行李 费用 触手 1991 星座 校草 成长 暮光 女友 求婚 钢弩 价格 图片 乐乐 课堂 宠妻 成瘾 老婆 魔手 tv 梅河口 济南 火车票 临泉 长官 君子兰 南洋 十大 邪术 电影 炸油条 做法 配方 根号 等于 笑笑 昨日 帝王 吃惊 词语 教师节 征文 朝阳区 庄户 邮编 千百 1991 农历 星座 圣经 合本 免费 下载 水煮 花生米 做法 十字 徽信 表情 含义 天才 小熊猫 微博长 宠冠六宫 帝王 娇蛮 皇妃 广告 软件 安卓版 萌妻 娇俏帝 总裁 霸爱 小小 新娘 逃婚 花生 好吃 中国 证券网 柔和 双沟 销售 中秋节 诗句 图片 怪病 洗洁精 等于 服装 批发 怀孕 肚子 隐隐作痛 怎么回事 百度 蒜苔 家常 做法 水煮 花生米 天才 小熊猫 作品 袁姗姗 临泉 长官 镇桥口 呼作 白玉 一句 微信 表情 搞笑 图片 滴滴 快车 司机 教师节 手抄报 简单 好看 大冶 公安局 派出所 柔和 双沟 业务 待遇 哺乳期 月经 临泉 长官 水上 乐园 忐忑不安 临泉 长官 李小刚 家庭 农场 电信 电子 发票 报销 岳不群 临泉 长官 镇桥口 天龙 农场 凉拌 水煮 花生米 做法 威灵仙 功效 作用 鸽子 做法 战神 伪高冷 天降 医妃 回家 白颠 初期 症状 天才 小熊猫 首席 萌妻 咬一口 弩弓 商城 三国演义 小说 临泉 长官 镇桥口 植物 养殖 基地 邮储 银行 手机 银行 客户端 下载 花米 好吃 英语 在线翻译 糖醋 鲤鱼 搞笑 微信 表情图片 带字 新婚 似火 鲜妻 胎生 一对 三国演义 教师节 手抄报 王国 价格表 鱼汤 做法 临泉 长官 镇桥口 私人 农场 临泉 长官 镇桥 口镇 杨营 临泉 长官 天龙 家庭 农场 李子树 根部 脓包 怎么回事 单手 高速 转牌 医学院 路上 徽信 早上好 动态 表情 宝宝 小名 大全 洋气 寂寞 男女 聊天记录 截图 神将 世界 美丽 秋天 作文 300 钢弩 冰川 世纪 电影 全文 触手 蓝烟 做法 金罐 加多宝 澳洲 托运 行李 15346171303 cn 蒜苔 家常 做法 时光 掩埋 秘密 根号 13.6 等于 方特 东方 神画 粉红 花朵 图片 qq 申请 千亿 盛宠 大叔 慢点 东方 财富网 首页 动力 价格 手机 遥控 魔棒 jzg 行李 托运 澳洲 蚬壳 胃散 副作用 红烧 鲤鱼 触手 tv 中国 财经 信息网 中财网 立方根 800 美食 菜谱 笑傲江湖 电视剧 柔和 双沟 笑傲江湖 品种 名字 图片 滴滴 司机 奇怪 鸡蛋 灌饼 天龙 农家乐 拉拉 歌词 陈翔 女朋友 牢解场 生活 微微一笑 倾城 豪门 少奶奶 谢少 心尖 宠妻\n"
     ]
    }
   ],
   "source": [
    "# process train data\n",
    "new_queries = remove_noise(df_train_data)\n",
    "df_train_data['Queries'] = new_queries\n",
    "# print(len(new_queries))\n",
    "# print(new_queries[0])\n",
    "\n",
    "new_header = ['ID', 'Age', 'Gender', 'Education', 'Queries']\n",
    "df_train_data.to_csv('data/processed_train.csv', columns=new_header)"
   ]
  },
  {
   "cell_type": "code",
   "execution_count": 9,
   "metadata": {},
   "outputs": [
    {
     "data": {
      "text/html": [
       "<div>\n",
       "<style scoped>\n",
       "    .dataframe tbody tr th:only-of-type {\n",
       "        vertical-align: middle;\n",
       "    }\n",
       "\n",
       "    .dataframe tbody tr th {\n",
       "        vertical-align: top;\n",
       "    }\n",
       "\n",
       "    .dataframe thead th {\n",
       "        text-align: right;\n",
       "    }\n",
       "</style>\n",
       "<table border=\"1\" class=\"dataframe\">\n",
       "  <thead>\n",
       "    <tr style=\"text-align: right;\">\n",
       "      <th></th>\n",
       "      <th>ID</th>\n",
       "      <th>Age</th>\n",
       "      <th>Gender</th>\n",
       "      <th>Education</th>\n",
       "      <th>Query_list</th>\n",
       "    </tr>\n",
       "  </thead>\n",
       "  <tbody>\n",
       "    <tr>\n",
       "      <th>0</th>\n",
       "      <td>ED89D43B9F602F96D96C25255F7C228C</td>\n",
       "      <td>陈学冬将出的作品\\t刘昊然与谭松韵\\t211学校的分数线\\t谁唱的味道好听\\t吻戏是真吻还是...</td>\n",
       "      <td>NaN</td>\n",
       "      <td>NaN</td>\n",
       "      <td>NaN</td>\n",
       "    </tr>\n",
       "    <tr>\n",
       "      <th>1</th>\n",
       "      <td>83C3B7B4AAF8074655A8079F561A76D6</td>\n",
       "      <td>e的0.0052次方\\tqq怎么快速提现\\t绝色倾城飞烟\\t马克思主义基本原理概论\\t康世恩...</td>\n",
       "      <td>NaN</td>\n",
       "      <td>NaN</td>\n",
       "      <td>NaN</td>\n",
       "    </tr>\n",
       "  </tbody>\n",
       "</table>\n",
       "</div>"
      ],
      "text/plain": [
       "                                 ID  \\\n",
       "0  ED89D43B9F602F96D96C25255F7C228C   \n",
       "1  83C3B7B4AAF8074655A8079F561A76D6   \n",
       "\n",
       "                                                 Age  Gender  Education  \\\n",
       "0  陈学冬将出的作品\\t刘昊然与谭松韵\\t211学校的分数线\\t谁唱的味道好听\\t吻戏是真吻还是...     NaN        NaN   \n",
       "1  e的0.0052次方\\tqq怎么快速提现\\t绝色倾城飞烟\\t马克思主义基本原理概论\\t康世恩...     NaN        NaN   \n",
       "\n",
       "   Query_list  \n",
       "0         NaN  \n",
       "1         NaN  "
      ]
     },
     "execution_count": 9,
     "metadata": {},
     "output_type": "execute_result"
    }
   ],
   "source": [
    "# df_test_data = pd.read_csv('data/test.csv', sep='###__###', engine='python', header=None, names=header_list, nrows=nrows)\n",
    "# df_test_data.head(2)\n",
    "\n",
    "# # process train/test data\n",
    "# new_queries = remove_noise(df_test_data)\n",
    "# df_test_data['Queries'] = new_queries\n",
    "# print(len(new_queries))\n",
    "# print(new_queries[0])\n",
    "\n",
    "# new_header = ['ID', 'Age', 'Gender', 'Education', 'Queries']\n",
    "# df_test_data.to_csv('data/processed_test.csv', columns=new_header)"
   ]
  },
  {
   "cell_type": "code",
   "execution_count": null,
   "metadata": {},
   "outputs": [],
   "source": []
  }
 ],
 "metadata": {
  "kernelspec": {
   "display_name": "Python 3",
   "language": "python",
   "name": "python3"
  },
  "language_info": {
   "codemirror_mode": {
    "name": "ipython",
    "version": 3
   },
   "file_extension": ".py",
   "mimetype": "text/x-python",
   "name": "python",
   "nbconvert_exporter": "python",
   "pygments_lexer": "ipython3",
   "version": "3.7.7"
  }
 },
 "nbformat": 4,
 "nbformat_minor": 4
}
